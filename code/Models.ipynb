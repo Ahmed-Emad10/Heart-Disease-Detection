{
 "cells": [
  {
   "cell_type": "code",
   "execution_count": 1,
   "metadata": {},
   "outputs": [],
   "source": [
    "import numpy as np\n",
    "import pandas as pd\n",
    "from sklearn.model_selection import train_test_split\n",
    "from imblearn.over_sampling import RandomOverSampler\n",
    "from sklearn.ensemble import RandomForestClassifier\n",
    "from sklearn.metrics import accuracy_score\n",
    "from sklearn.metrics import confusion_matrix\n",
    "from sklearn.metrics import classification_report\n",
    "from sklearn.linear_model import LogisticRegression \n",
    "from sklearn.naive_bayes import GaussianNB\n",
    "from sklearn.neighbors import KNeighborsClassifier\n"
   ]
  },
  {
   "cell_type": "code",
   "execution_count": 2,
   "metadata": {},
   "outputs": [
    {
     "data": {
      "text/html": [
       "<div>\n",
       "<style scoped>\n",
       "    .dataframe tbody tr th:only-of-type {\n",
       "        vertical-align: middle;\n",
       "    }\n",
       "\n",
       "    .dataframe tbody tr th {\n",
       "        vertical-align: top;\n",
       "    }\n",
       "\n",
       "    .dataframe thead th {\n",
       "        text-align: right;\n",
       "    }\n",
       "</style>\n",
       "<table border=\"1\" class=\"dataframe\">\n",
       "  <thead>\n",
       "    <tr style=\"text-align: right;\">\n",
       "      <th></th>\n",
       "      <th>HeartDisease</th>\n",
       "      <th>BMI</th>\n",
       "      <th>Smoking</th>\n",
       "      <th>AlcoholDrinking</th>\n",
       "      <th>Stroke</th>\n",
       "      <th>PhysicalHealth</th>\n",
       "      <th>MentalHealth</th>\n",
       "      <th>DiffWalking</th>\n",
       "      <th>Sex</th>\n",
       "      <th>AgeCategory</th>\n",
       "      <th>Race</th>\n",
       "      <th>Diabetic</th>\n",
       "      <th>PhysicalActivity</th>\n",
       "      <th>GenHealth</th>\n",
       "      <th>SleepTime</th>\n",
       "      <th>Asthma</th>\n",
       "      <th>KidneyDisease</th>\n",
       "      <th>SkinCancer</th>\n",
       "    </tr>\n",
       "  </thead>\n",
       "  <tbody>\n",
       "    <tr>\n",
       "      <th>0</th>\n",
       "      <td>0</td>\n",
       "      <td>16.60</td>\n",
       "      <td>1</td>\n",
       "      <td>0</td>\n",
       "      <td>0</td>\n",
       "      <td>3.0</td>\n",
       "      <td>30.0</td>\n",
       "      <td>0</td>\n",
       "      <td>0</td>\n",
       "      <td>7</td>\n",
       "      <td>0</td>\n",
       "      <td>2</td>\n",
       "      <td>1</td>\n",
       "      <td>3</td>\n",
       "      <td>5.0</td>\n",
       "      <td>1</td>\n",
       "      <td>0</td>\n",
       "      <td>1</td>\n",
       "    </tr>\n",
       "    <tr>\n",
       "      <th>1</th>\n",
       "      <td>0</td>\n",
       "      <td>20.34</td>\n",
       "      <td>0</td>\n",
       "      <td>0</td>\n",
       "      <td>1</td>\n",
       "      <td>0.0</td>\n",
       "      <td>0.0</td>\n",
       "      <td>0</td>\n",
       "      <td>0</td>\n",
       "      <td>12</td>\n",
       "      <td>0</td>\n",
       "      <td>0</td>\n",
       "      <td>1</td>\n",
       "      <td>3</td>\n",
       "      <td>7.0</td>\n",
       "      <td>0</td>\n",
       "      <td>0</td>\n",
       "      <td>0</td>\n",
       "    </tr>\n",
       "    <tr>\n",
       "      <th>2</th>\n",
       "      <td>0</td>\n",
       "      <td>26.58</td>\n",
       "      <td>1</td>\n",
       "      <td>0</td>\n",
       "      <td>0</td>\n",
       "      <td>20.0</td>\n",
       "      <td>30.0</td>\n",
       "      <td>0</td>\n",
       "      <td>1</td>\n",
       "      <td>9</td>\n",
       "      <td>0</td>\n",
       "      <td>2</td>\n",
       "      <td>1</td>\n",
       "      <td>1</td>\n",
       "      <td>8.0</td>\n",
       "      <td>1</td>\n",
       "      <td>0</td>\n",
       "      <td>0</td>\n",
       "    </tr>\n",
       "    <tr>\n",
       "      <th>3</th>\n",
       "      <td>0</td>\n",
       "      <td>24.21</td>\n",
       "      <td>0</td>\n",
       "      <td>0</td>\n",
       "      <td>0</td>\n",
       "      <td>0.0</td>\n",
       "      <td>0.0</td>\n",
       "      <td>0</td>\n",
       "      <td>0</td>\n",
       "      <td>11</td>\n",
       "      <td>0</td>\n",
       "      <td>0</td>\n",
       "      <td>0</td>\n",
       "      <td>2</td>\n",
       "      <td>6.0</td>\n",
       "      <td>0</td>\n",
       "      <td>0</td>\n",
       "      <td>1</td>\n",
       "    </tr>\n",
       "    <tr>\n",
       "      <th>4</th>\n",
       "      <td>0</td>\n",
       "      <td>23.71</td>\n",
       "      <td>0</td>\n",
       "      <td>0</td>\n",
       "      <td>0</td>\n",
       "      <td>28.0</td>\n",
       "      <td>0.0</td>\n",
       "      <td>1</td>\n",
       "      <td>0</td>\n",
       "      <td>4</td>\n",
       "      <td>0</td>\n",
       "      <td>0</td>\n",
       "      <td>1</td>\n",
       "      <td>3</td>\n",
       "      <td>8.0</td>\n",
       "      <td>0</td>\n",
       "      <td>0</td>\n",
       "      <td>0</td>\n",
       "    </tr>\n",
       "  </tbody>\n",
       "</table>\n",
       "</div>"
      ],
      "text/plain": [
       "   HeartDisease    BMI  Smoking  AlcoholDrinking  Stroke  PhysicalHealth   \n",
       "0             0  16.60        1                0       0             3.0  \\\n",
       "1             0  20.34        0                0       1             0.0   \n",
       "2             0  26.58        1                0       0            20.0   \n",
       "3             0  24.21        0                0       0             0.0   \n",
       "4             0  23.71        0                0       0            28.0   \n",
       "\n",
       "   MentalHealth  DiffWalking  Sex  AgeCategory  Race  Diabetic   \n",
       "0          30.0            0    0            7     0         2  \\\n",
       "1           0.0            0    0           12     0         0   \n",
       "2          30.0            0    1            9     0         2   \n",
       "3           0.0            0    0           11     0         0   \n",
       "4           0.0            1    0            4     0         0   \n",
       "\n",
       "   PhysicalActivity  GenHealth  SleepTime  Asthma  KidneyDisease  SkinCancer  \n",
       "0                 1          3        5.0       1              0           1  \n",
       "1                 1          3        7.0       0              0           0  \n",
       "2                 1          1        8.0       1              0           0  \n",
       "3                 0          2        6.0       0              0           1  \n",
       "4                 1          3        8.0       0              0           0  "
      ]
     },
     "execution_count": 2,
     "metadata": {},
     "output_type": "execute_result"
    }
   ],
   "source": [
    "# read data\n",
    "df = pd.read_csv('../Data/data_cleaned.csv')\n",
    "df.head()"
   ]
  },
  {
   "attachments": {},
   "cell_type": "markdown",
   "metadata": {},
   "source": [
    "## splitting data into train and Test sets"
   ]
  },
  {
   "cell_type": "code",
   "execution_count": 3,
   "metadata": {},
   "outputs": [
    {
     "name": "stdout",
     "output_type": "stream",
     "text": [
      "(255836, 17)\n",
      "(63959, 17)\n",
      "(255836,)\n",
      "(63959,)\n",
      "271884    0\n",
      "270361    0\n",
      "219060    0\n",
      "24010     0\n",
      "181930    0\n",
      "Name: HeartDisease, dtype: int64\n"
     ]
    }
   ],
   "source": [
    "# split data into train and test\n",
    "X_train, X_test, y_train, y_test = train_test_split(df.drop('HeartDisease', axis=1), df['HeartDisease'], test_size=0.2, random_state=42)\n",
    "# show the shape of the train and test data\n",
    "print(X_train.shape)\n",
    "print(X_test.shape)\n",
    "print(y_train.shape)\n",
    "print(y_test.shape)\n",
    "print(y_test.head())\n",
    "\n",
    "\n"
   ]
  },
  {
   "cell_type": "markdown",
   "metadata": {},
   "source": [
    "## OverSampling "
   ]
  },
  {
   "cell_type": "code",
   "execution_count": 4,
   "metadata": {},
   "outputs": [
    {
     "name": "stdout",
     "output_type": "stream",
     "text": [
      "Accuracy score before oversampling:  0.9125689895089042\n",
      "Confusion matrix before oversampling: \n",
      " [[58367     0]\n",
      " [ 5592     0]]\n",
      "Classification report before oversampling: \n",
      "               precision    recall  f1-score   support\n",
      "\n",
      "           0       0.91      1.00      0.95     58367\n",
      "           1       0.00      0.00      0.00      5592\n",
      "\n",
      "    accuracy                           0.91     63959\n",
      "   macro avg       0.46      0.50      0.48     63959\n",
      "weighted avg       0.83      0.91      0.87     63959\n",
      "\n"
     ]
    },
    {
     "name": "stderr",
     "output_type": "stream",
     "text": [
      "c:\\Users\\lenovo\\AppData\\Local\\Programs\\Python\\Python39\\lib\\site-packages\\sklearn\\metrics\\_classification.py:1344: UndefinedMetricWarning: Precision and F-score are ill-defined and being set to 0.0 in labels with no predicted samples. Use `zero_division` parameter to control this behavior.\n",
      "  _warn_prf(average, modifier, msg_start, len(result))\n",
      "c:\\Users\\lenovo\\AppData\\Local\\Programs\\Python\\Python39\\lib\\site-packages\\sklearn\\metrics\\_classification.py:1344: UndefinedMetricWarning: Precision and F-score are ill-defined and being set to 0.0 in labels with no predicted samples. Use `zero_division` parameter to control this behavior.\n",
      "  _warn_prf(average, modifier, msg_start, len(result))\n",
      "c:\\Users\\lenovo\\AppData\\Local\\Programs\\Python\\Python39\\lib\\site-packages\\sklearn\\metrics\\_classification.py:1344: UndefinedMetricWarning: Precision and F-score are ill-defined and being set to 0.0 in labels with no predicted samples. Use `zero_division` parameter to control this behavior.\n",
      "  _warn_prf(average, modifier, msg_start, len(result))\n"
     ]
    }
   ],
   "source": [
    "# create a classifier\n",
    "clf = RandomForestClassifier(n_estimators=100, max_depth=2, random_state=0)\n",
    "# fit the classifier to the training data\n",
    "clf.fit(X_train, y_train)\n",
    "# predict the test data\n",
    "y_pred = clf.predict(X_test)\n",
    "# show the accuracy score\n",
    "print('Accuracy score before oversampling: ', accuracy_score(y_test, y_pred))\n",
    "# show the confusion matrix\n",
    "print('Confusion matrix before oversampling: \\n', confusion_matrix(y_test, y_pred))\n",
    "# show the classification report\n",
    "print('Classification report before oversampling: \\n', classification_report(y_test, y_pred))\n"
   ]
  },
  {
   "cell_type": "markdown",
   "metadata": {},
   "source": [
    "## -----------------Random Forrest-----------------"
   ]
  },
  {
   "cell_type": "code",
   "execution_count": 5,
   "metadata": {},
   "outputs": [
    {
     "name": "stdout",
     "output_type": "stream",
     "text": [
      "(468110, 17)\n",
      "(468110,)\n",
      "Accuracy score after oversampling:  0.7250113353867321\n",
      "Confusion matrix after oversampling: \n",
      " [[42175 16192]\n",
      " [ 1396  4196]]\n",
      "Classification report after oversampling: \n",
      "               precision    recall  f1-score   support\n",
      "\n",
      "           0       0.97      0.72      0.83     58367\n",
      "           1       0.21      0.75      0.32      5592\n",
      "\n",
      "    accuracy                           0.73     63959\n",
      "   macro avg       0.59      0.74      0.58     63959\n",
      "weighted avg       0.90      0.73      0.78     63959\n",
      "\n"
     ]
    }
   ],
   "source": [
    "# oversample the data\n",
    "ros = RandomOverSampler(random_state=42)\n",
    "X_resampled, y_resampled = ros.fit_resample(X_train, y_train)\n",
    "# show the shape of the resampled data\n",
    "print(X_resampled.shape)\n",
    "print(y_resampled.shape)\n",
    "# use the resampled data to train the classifier\n",
    "clf.fit(X_resampled, y_resampled)\n",
    "# predict the test data\n",
    "y_pred = clf.predict(X_test)\n",
    "# show the accuracy score\n",
    "print('Accuracy score after oversampling: ', accuracy_score(y_test, y_pred))\n",
    "# show the confusion matrix\n",
    "print('Confusion matrix after oversampling: \\n', confusion_matrix(y_test, y_pred))\n",
    "# show the classification report\n",
    "print('Classification report after oversampling: \\n', classification_report(y_test, y_pred))\n"
   ]
  },
  {
   "cell_type": "markdown",
   "metadata": {},
   "source": [
    "# Models"
   ]
  },
  {
   "attachments": {},
   "cell_type": "markdown",
   "metadata": {},
   "source": [
    "## -----------------Logistic Regression-----------------"
   ]
  },
  {
   "cell_type": "code",
   "execution_count": 6,
   "metadata": {},
   "outputs": [
    {
     "name": "stderr",
     "output_type": "stream",
     "text": [
      "c:\\Users\\lenovo\\AppData\\Local\\Programs\\Python\\Python39\\lib\\site-packages\\sklearn\\linear_model\\_logistic.py:458: ConvergenceWarning: lbfgs failed to converge (status=1):\n",
      "STOP: TOTAL NO. of ITERATIONS REACHED LIMIT.\n",
      "\n",
      "Increase the number of iterations (max_iter) or scale the data as shown in:\n",
      "    https://scikit-learn.org/stable/modules/preprocessing.html\n",
      "Please also refer to the documentation for alternative solver options:\n",
      "    https://scikit-learn.org/stable/modules/linear_model.html#logistic-regression\n",
      "  n_iter_i = _check_optimize_result(\n"
     ]
    },
    {
     "name": "stdout",
     "output_type": "stream",
     "text": [
      "Accuracy score after oversampling:  0.7477602839318939\n",
      "Confusion matrix after oversampling: \n",
      " [[43484 14883]\n",
      " [ 1250  4342]]\n",
      "Classification report after oversampling: \n",
      "               precision    recall  f1-score   support\n",
      "\n",
      "           0       0.97      0.75      0.84     58367\n",
      "           1       0.23      0.78      0.35      5592\n",
      "\n",
      "    accuracy                           0.75     63959\n",
      "   macro avg       0.60      0.76      0.60     63959\n",
      "weighted avg       0.91      0.75      0.80     63959\n",
      "\n"
     ]
    }
   ],
   "source": [
    "logreg = LogisticRegression()\n",
    "# fit the model to the training data\n",
    "logreg.fit(X_resampled, y_resampled)\n",
    "# predict the test data\n",
    "y_pred = logreg.predict(X_test)\n",
    "# show the accuracy score\n",
    "print('Accuracy score after oversampling: ', accuracy_score(y_test, y_pred))\n",
    "# show the confusion matrix\n",
    "print('Confusion matrix after oversampling: \\n', confusion_matrix(y_test, y_pred))\n",
    "# show the classification report\n",
    "print('Classification report after oversampling: \\n', classification_report(y_test, y_pred))\n"
   ]
  },
  {
   "cell_type": "markdown",
   "metadata": {},
   "source": [
    "## -----------------Naive Bayes-----------------\n"
   ]
  },
  {
   "cell_type": "code",
   "execution_count": 7,
   "metadata": {},
   "outputs": [
    {
     "name": "stdout",
     "output_type": "stream",
     "text": [
      "Accuracy score after oversampling:  0.7956816085304649\n",
      "Confusion matrix after oversampling: \n",
      " [[47572 10795]\n",
      " [ 2273  3319]]\n",
      "Classification report after oversampling: \n",
      "               precision    recall  f1-score   support\n",
      "\n",
      "           0       0.95      0.82      0.88     58367\n",
      "           1       0.24      0.59      0.34      5592\n",
      "\n",
      "    accuracy                           0.80     63959\n",
      "   macro avg       0.59      0.70      0.61     63959\n",
      "weighted avg       0.89      0.80      0.83     63959\n",
      "\n"
     ]
    }
   ],
   "source": [
    "# make a naive bayes classifier\n",
    "gnb = GaussianNB()\n",
    "# fit the model to the training data\n",
    "gnb.fit(X_resampled, y_resampled)\n",
    "# predict the test data\n",
    "y_pred = gnb.predict(X_test)\n",
    "# show the accuracy score\n",
    "print('Accuracy score after oversampling: ', accuracy_score(y_test, y_pred))\n",
    "# show the confusion matrix\n",
    "print('Confusion matrix after oversampling: \\n', confusion_matrix(y_test, y_pred))\n",
    "# show the classification report\n",
    "print('Classification report after oversampling: \\n', classification_report(y_test, y_pred))\n"
   ]
  },
  {
   "cell_type": "markdown",
   "metadata": {},
   "source": [
    "## -----------------SVM-----------------\n"
   ]
  },
  {
   "cell_type": "code",
   "execution_count": 8,
   "metadata": {},
   "outputs": [],
   "source": [
    "# # create a classifier\n",
    "# clf = svm.SVC()\n",
    "# # fit the classifier to the training data\n",
    "# clf.fit(X_resampled, y_resampled)\n",
    "# # predict the test data\n",
    "# y_pred = clf.predict(X_test)\n",
    "# # show the accuracy score\n",
    "# print('Accuracy score after oversampling: ', accuracy_score(y_test, y_pred))\n",
    "# # show the confusion matrix\n",
    "# print('Confusion matrix after oversampling: \\n', confusion_matrix(y_test, y_pred))\n",
    "# # show the classification report\n",
    "# print('Classification report after oversampling: \\n', classification_report(y_test, y_pred))"
   ]
  },
  {
   "cell_type": "markdown",
   "metadata": {},
   "source": [
    "## -----------------KNN-----------------\n"
   ]
  },
  {
   "cell_type": "code",
   "execution_count": 9,
   "metadata": {},
   "outputs": [
    {
     "name": "stdout",
     "output_type": "stream",
     "text": [
      "Accuracy score after oversampling:  0.8358010600540972\n",
      "Confusion matrix after oversampling: \n",
      " [[51628  6739]\n",
      " [ 3763  1829]]\n",
      "Classification report after oversampling: \n",
      "               precision    recall  f1-score   support\n",
      "\n",
      "           0       0.93      0.88      0.91     58367\n",
      "           1       0.21      0.33      0.26      5592\n",
      "\n",
      "    accuracy                           0.84     63959\n",
      "   macro avg       0.57      0.61      0.58     63959\n",
      "weighted avg       0.87      0.84      0.85     63959\n",
      "\n"
     ]
    }
   ],
   "source": [
    "# create a classifier\n",
    "clf = KNeighborsClassifier(n_neighbors=3)\n",
    "# fit the classifier to the training data\n",
    "clf.fit(X_resampled, y_resampled)\n",
    "# predict the test data\n",
    "y_pred = clf.predict(X_test)\n",
    "# show the accuracy score\n",
    "print('Accuracy score after oversampling: ', accuracy_score(y_test, y_pred))\n",
    "# show the confusion matrix\n",
    "print('Confusion matrix after oversampling: \\n', confusion_matrix(y_test, y_pred))\n",
    "# show the classification report\n",
    "print('Classification report after oversampling: \\n', classification_report(y_test, y_pred))\n"
   ]
  }
 ],
 "metadata": {
  "kernelspec": {
   "display_name": "Python 3",
   "language": "python",
   "name": "python3"
  },
  "language_info": {
   "codemirror_mode": {
    "name": "ipython",
    "version": 3
   },
   "file_extension": ".py",
   "mimetype": "text/x-python",
   "name": "python",
   "nbconvert_exporter": "python",
   "pygments_lexer": "ipython3",
   "version": "3.9.11"
  },
  "orig_nbformat": 4
 },
 "nbformat": 4,
 "nbformat_minor": 2
}
